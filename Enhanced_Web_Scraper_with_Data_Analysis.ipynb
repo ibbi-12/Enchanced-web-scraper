{
  "nbformat": 4,
  "nbformat_minor": 0,
  "metadata": {
    "colab": {
      "provenance": [],
      "authorship_tag": "ABX9TyMSNONDwsf5Z8S2e6VHi4w+",
      "include_colab_link": true
    },
    "kernelspec": {
      "name": "python3",
      "display_name": "Python 3"
    },
    "language_info": {
      "name": "python"
    }
  },
  "cells": [
    {
      "cell_type": "markdown",
      "metadata": {
        "id": "view-in-github",
        "colab_type": "text"
      },
      "source": [
        "<a href=\"https://colab.research.google.com/github/ibbi-12/Enchanced-web-scraper/blob/main/Enhanced_Web_Scraper_with_Data_Analysis.ipynb\" target=\"_parent\"><img src=\"https://colab.research.google.com/assets/colab-badge.svg\" alt=\"Open In Colab\"/></a>"
      ]
    },
    {
      "cell_type": "markdown",
      "source": [
        "# **Scrape Data Across Multiple Pages**"
      ],
      "metadata": {
        "id": "TyInnu9gc3Xn"
      }
    },
    {
      "cell_type": "code",
      "execution_count": null,
      "metadata": {
        "colab": {
          "base_uri": "https://localhost:8080/"
        },
        "id": "FMjHBJ_xZxPG",
        "outputId": "600adbd9-d76e-45e8-bdfd-93c93eace04e"
      },
      "outputs": [
        {
          "output_type": "stream",
          "name": "stdout",
          "text": [
            "Scraping: http://books.toscrape.com/catalogue/page-1.html\n",
            "Scraping: http://books.toscrape.com/catalogue/page-2.html\n",
            "Scraping: http://books.toscrape.com/catalogue/page-3.html\n",
            "Scraping: http://books.toscrape.com/catalogue/page-4.html\n",
            "Scraping: http://books.toscrape.com/catalogue/page-5.html\n",
            "Scraping: http://books.toscrape.com/catalogue/page-6.html\n",
            "Scraping: http://books.toscrape.com/catalogue/page-7.html\n",
            "Scraping: http://books.toscrape.com/catalogue/page-8.html\n",
            "Scraping: http://books.toscrape.com/catalogue/page-9.html\n",
            "Scraping: http://books.toscrape.com/catalogue/page-10.html\n",
            "Scraping: http://books.toscrape.com/catalogue/page-11.html\n",
            "Scraping: http://books.toscrape.com/catalogue/page-12.html\n",
            "Scraping: http://books.toscrape.com/catalogue/page-13.html\n",
            "Scraping: http://books.toscrape.com/catalogue/page-14.html\n",
            "Scraping: http://books.toscrape.com/catalogue/page-15.html\n",
            "Scraping: http://books.toscrape.com/catalogue/page-16.html\n",
            "Scraping: http://books.toscrape.com/catalogue/page-17.html\n",
            "Scraping: http://books.toscrape.com/catalogue/page-18.html\n",
            "Scraping: http://books.toscrape.com/catalogue/page-19.html\n",
            "Scraping: http://books.toscrape.com/catalogue/page-20.html\n",
            "Scraping: http://books.toscrape.com/catalogue/page-21.html\n",
            "Scraping: http://books.toscrape.com/catalogue/page-22.html\n",
            "Scraping: http://books.toscrape.com/catalogue/page-23.html\n",
            "Scraping: http://books.toscrape.com/catalogue/page-24.html\n",
            "Scraping: http://books.toscrape.com/catalogue/page-25.html\n",
            "Scraping: http://books.toscrape.com/catalogue/page-26.html\n",
            "Scraping: http://books.toscrape.com/catalogue/page-27.html\n",
            "Scraping: http://books.toscrape.com/catalogue/page-28.html\n",
            "Scraping: http://books.toscrape.com/catalogue/page-29.html\n",
            "Scraping: http://books.toscrape.com/catalogue/page-30.html\n",
            "Scraping: http://books.toscrape.com/catalogue/page-31.html\n",
            "Scraping: http://books.toscrape.com/catalogue/page-32.html\n",
            "Scraping: http://books.toscrape.com/catalogue/page-33.html\n",
            "Scraping: http://books.toscrape.com/catalogue/page-34.html\n",
            "Scraping: http://books.toscrape.com/catalogue/page-35.html\n",
            "Scraping: http://books.toscrape.com/catalogue/page-36.html\n",
            "Scraping: http://books.toscrape.com/catalogue/page-37.html\n",
            "Scraping: http://books.toscrape.com/catalogue/page-38.html\n",
            "Scraping: http://books.toscrape.com/catalogue/page-39.html\n",
            "Scraping: http://books.toscrape.com/catalogue/page-40.html\n",
            "Scraping: http://books.toscrape.com/catalogue/page-41.html\n",
            "Scraping: http://books.toscrape.com/catalogue/page-42.html\n",
            "Scraping: http://books.toscrape.com/catalogue/page-43.html\n",
            "Scraping: http://books.toscrape.com/catalogue/page-44.html\n",
            "Scraping: http://books.toscrape.com/catalogue/page-45.html\n",
            "Scraping: http://books.toscrape.com/catalogue/page-46.html\n",
            "Scraping: http://books.toscrape.com/catalogue/page-47.html\n",
            "Scraping: http://books.toscrape.com/catalogue/page-48.html\n",
            "Scraping: http://books.toscrape.com/catalogue/page-49.html\n",
            "Scraping: http://books.toscrape.com/catalogue/page-50.html\n",
            "Total books scraped: 1000\n"
          ]
        }
      ],
      "source": [
        "import requests\n",
        "from bs4 import BeautifulSoup\n",
        "from urllib.parse import urljoin\n",
        "\n",
        "# Starting URL for the first page in the catalogue\n",
        "page_url = \"http://books.toscrape.com/catalogue/page-1.html\"\n",
        "books_data = []\n",
        "\n",
        "while True:\n",
        "    print(f\"Scraping: {page_url}\")\n",
        "    response = requests.get(page_url)\n",
        "    if response.status_code != 200:\n",
        "        print(\"Failed to retrieve the page.\")\n",
        "        break\n",
        "\n",
        "    soup = BeautifulSoup(response.text, 'html.parser')\n",
        "    articles = soup.find_all('article', class_='product_pod')\n",
        "\n",
        "    # Extract book details from each article\n",
        "    for article in articles:\n",
        "        title = article.find('h3').find('a')['title']\n",
        "        price = article.find('p', class_='price_color').text.strip()\n",
        "        # The rating is the second class (e.g., \"Three\")\n",
        "        rating = article.find('p', class_='star-rating')['class'][1]\n",
        "        availability = article.find('p', class_='instock availability').text.strip()\n",
        "\n",
        "        books_data.append({\n",
        "            'title': title,\n",
        "            'price': price,\n",
        "            'rating': rating,\n",
        "            'availability': availability\n",
        "        })\n",
        "\n",
        "    # Find the 'next' page link\n",
        "    next_button = soup.find('li', class_='next')\n",
        "    if next_button:\n",
        "        next_link = next_button.find('a')['href']\n",
        "        page_url = urljoin(page_url, next_link)\n",
        "    else:\n",
        "        break\n",
        "\n",
        "print(f\"Total books scraped: {len(books_data)}\")\n"
      ]
    },
    {
      "cell_type": "markdown",
      "source": [
        "# **Save the Data to a CSV File**"
      ],
      "metadata": {
        "id": "PJkorxsQc7vD"
      }
    },
    {
      "cell_type": "code",
      "source": [
        "import pandas as pd\n",
        "\n",
        "# Create a DataFrame from the scraped data\n",
        "df = pd.DataFrame(books_data)\n",
        "\n",
        "# Save the DataFrame to a CSV file\n",
        "df.to_csv('books_data.csv', index=False)\n",
        "print(\"Data saved to books_data.csv\")\n"
      ],
      "metadata": {
        "colab": {
          "base_uri": "https://localhost:8080/"
        },
        "id": "ox8_5DeRczW2",
        "outputId": "63fd5b03-b2c0-49a4-cfce-d199c8603b9e"
      },
      "execution_count": null,
      "outputs": [
        {
          "output_type": "stream",
          "name": "stdout",
          "text": [
            "Data saved to books_data.csv\n"
          ]
        }
      ]
    },
    {
      "cell_type": "markdown",
      "source": [
        "# **Perform Data Analysis**"
      ],
      "metadata": {
        "id": "JBKc-9xJdEwH"
      }
    },
    {
      "cell_type": "code",
      "source": [
        "import pandas as pd\n",
        "import matplotlib.pyplot as plt\n",
        "\n",
        "# Load the CSV data\n",
        "df = pd.read_csv('books_data.csv')\n",
        "\n",
        "# Convert price from string (e.g., \"£51.77\") to float\n",
        "df['price'] = df['price'].str.replace('Â', '', regex=False) \\\n",
        "                         .str.replace('£', '', regex=False) \\\n",
        "                         .astype(float)\n",
        "\n",
        "\n",
        "# Calculate average price\n",
        "average_price = df['price'].mean()\n",
        "print(\"Average Book Price: £{:.2f}\".format(average_price))\n",
        "\n",
        "# Count the occurrences of each rating\n",
        "rating_counts = df['rating'].value_counts()\n",
        "print(\"Rating Counts:\")\n",
        "print(rating_counts)\n",
        "\n",
        "# Plot the distribution of ratings\n",
        "rating_counts.plot(kind='bar', color='skyblue')\n",
        "plt.title('Distribution of Book Ratings')\n",
        "plt.xlabel('Rating')\n",
        "plt.ylabel('Number of Books')\n",
        "plt.show()\n"
      ],
      "metadata": {
        "colab": {
          "base_uri": "https://localhost:8080/",
          "height": 658
        },
        "id": "ypfe4KQsdIc1",
        "outputId": "7bdb6fc9-906e-4fa0-8c1e-17f11d65d367"
      },
      "execution_count": null,
      "outputs": [
        {
          "output_type": "stream",
          "name": "stdout",
          "text": [
            "Average Book Price: £35.07\n",
            "Rating Counts:\n",
            "rating\n",
            "One      226\n",
            "Three    203\n",
            "Five     196\n",
            "Two      196\n",
            "Four     179\n",
            "Name: count, dtype: int64\n"
          ]
        },
        {
          "output_type": "display_data",
          "data": {
            "text/plain": [
              "<Figure size 640x480 with 1 Axes>"
            ],
            "image/png": "[encoded data removed]"
          },
          "metadata": {}
        }
      ]
    }
  ]
}